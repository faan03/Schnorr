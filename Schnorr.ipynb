{
  "nbformat": 4,
  "nbformat_minor": 0,
  "metadata": {
    "colab": {
      "name": "Schnorr.ipynb",
      "provenance": [],
      "collapsed_sections": [],
      "authorship_tag": "ABX9TyNwCUc+yfF0yoUVDqtVUv81",
      "include_colab_link": true
    },
    "kernelspec": {
      "name": "python3",
      "display_name": "Python 3"
    },
    "language_info": {
      "name": "python"
    }
  },
  "cells": [
    {
      "cell_type": "markdown",
      "metadata": {
        "id": "view-in-github",
        "colab_type": "text"
      },
      "source": [
        "<a href=\"https://colab.research.google.com/github/faan03/Schnorr/blob/main/Schnorr.ipynb\" target=\"_parent\"><img src=\"https://colab.research.google.com/assets/colab-badge.svg\" alt=\"Open In Colab\"/></a>"
      ]
    },
    {
      "cell_type": "code",
      "execution_count": 5,
      "metadata": {
        "colab": {
          "base_uri": "https://localhost:8080/"
        },
        "id": "ZLHRGL2oDbkf",
        "outputId": "98daa3ce-aa92-4b36-e7a7-deb2169cee25"
      },
      "outputs": [
        {
          "output_type": "stream",
          "name": "stdout",
          "text": [
            "Requirement already satisfied: gensafeprime in /usr/local/lib/python3.7/dist-packages (1.6)\n"
          ]
        }
      ],
      "source": [
        "!pip install gensafeprime\n",
        "import gensafeprime as gen\n",
        "import random as random\n",
        "\n",
        "class Zq:\n",
        "    \n",
        "    def __init__(self,q):\n",
        "        self.q = q        \n",
        "\n",
        "    def __modulo (self,a,b):\n",
        "        return a%b # residuo div entera entre a y b\n",
        "\n",
        "    def suma(self,a,b):\n",
        "        r= self.__modulo((a+b),self.q)\n",
        "        return r\n",
        "\n",
        "    def resta(self,a,b):\n",
        "        r = self.__modulo (a-b,self.q)\n",
        "        return r\n",
        "\n",
        "    def producto (self,a,b):\n",
        "        r= self.__modulo(a*b,self.q)\n",
        "        return r \n",
        "\n",
        "    def division (self,a,b):\n",
        "        invM_b= self.invMulti(b)\n",
        "        r= self.__modulo(a*invM_b,self.q)\n",
        "        return r\n",
        "\n",
        "    def potencia (self,base, potencia):   \n",
        "        r= pow(base,potencia,self.q)\n",
        "        return r\n",
        "\n",
        "    def invMulti(self,a):\n",
        "        r= self.__gcdExtended(a,self.q)[1]\n",
        "        return r    \n",
        "\n",
        "    def __gcdExtended(self,a, b): \n",
        "    # Base Case \n",
        "        if a == 0 :  \n",
        "            return b,0,1             \n",
        "        gcd,x1,y1 = self.__gcdExtended(b%a, a) \n",
        "        # Update x and y using results of recursive \n",
        "        # call \n",
        "        x = y1 - (b//a) * x1 \n",
        "        y = x1      \n",
        "        return gcd,x,y        \n",
        "\n",
        "    def getRandomElement(self):\n",
        "        return random.randint(0,self.q-1)\n",
        "\n",
        "    def getRandomNotZeroElement(self):\n",
        "        return random.randint(1,self.q-1)   \n",
        "\n",
        "class schnorr_G:\n",
        "    def __init__(self,G,q):\n",
        "        self.G=G\n",
        "        self.q=q        \n",
        "        self.zq = Zq(q)\n",
        "        self.__getGenerator()       \n",
        "\n",
        "    def generateKeyPair(self):\n",
        "        sk= self.zq.getRandomNotZeroElement()       \n",
        "        pk = self.G.potencia (self.g,sk)\n",
        "        return (sk,pk)      \n",
        "\n",
        "    def __getGenerator(self):\n",
        "        ##toma un elemento entre 1 y p-1        \n",
        "        element= self.G.getRandomElement()\n",
        "        while ((self.G.potencia (element,2)==1) or (self.G.potencia(element,self.q)!=1)):\n",
        "            element= self.G.getRandomElement()\n",
        "        self.g = element\n",
        "\n",
        "    def get_g(self):             \n",
        "        return self.g   \n",
        "\n",
        "class schnorr_P:\n",
        "    \n",
        "    def __init__(self,G,q,g,alfa):        \n",
        "        self.q=q\n",
        "        self.G = G\n",
        "        self.zq = Zq(q)          \n",
        "        self.g = g\n",
        "        self.alfa=alfa\n",
        "    \n",
        "        \n",
        "    def computeAlfa_t(self):        \n",
        "        self.alfa_t = self.zq.getRandomNotZeroElement() #  q \n",
        "        u_t = self.G.potencia (self.g,self.alfa_t) # u_t = g^alfa_t \n",
        "        return (u_t)    \n",
        "    \n",
        "    def computeAlfaZ (self,c):   \n",
        "        alfaZ= self.zq.suma(self.alfa_t,self.zq.producto(self.alfa,c))\n",
        "        return alfaZ\n",
        "        \n",
        "\n",
        "class schnorr_V:\n",
        "    def __init__(self,G,q,g,u):        \n",
        "        self.G = G\n",
        "        self.zq = Zq(q)        \n",
        "        self.u =u\n",
        "        self.g = g    \n",
        "    \n",
        "\n",
        "    def set_u_t(self,ut):\n",
        "        self.ut=ut    \n",
        "\n",
        "    def getC(self):\n",
        "        self.c= self.zq.getRandomElement()\n",
        "        return self.c\n",
        "\n",
        "    def check (self,alfaZ):\n",
        "        l= self.G.potencia(self.g,alfaZ)\n",
        "        r=  self.G.producto(self.ut, self.G.potencia(self.u,self.c))\n",
        "        if (l==r):\n",
        "            return True\n",
        "        else :\n",
        "            return False    \n"
      ]
    },
    {
      "cell_type": "code",
      "source": [
        "p = gen.generate(100)\n",
        "q=((p-1)//2)\n",
        "G= Zq(p)\n",
        "Gs = schnorr_G(G,q)\n",
        "(sk, pk) = Gs.generateKeyPair()\n",
        "\n",
        "P = schnorr_P(G,q,Gs.get_g(),sk)\n",
        "\n",
        "V = schnorr_V(G,q,Gs.get_g(),pk)\n",
        "\n",
        "u_t=P.computeAlfa_t()\n",
        "V.set_u_t(u_t)\n",
        "cValue= V.getC()\n",
        "alfaZ=P.computeAlfaZ(cValue)\n",
        "print (V.check(alfaZ))\n",
        "\n"
      ],
      "metadata": {
        "colab": {
          "base_uri": "https://localhost:8080/"
        },
        "id": "skjIw0tIppfO",
        "outputId": "6f3ff4e6-7e66-4346-e335-35d1b841b3c9"
      },
      "execution_count": 8,
      "outputs": [
        {
          "output_type": "stream",
          "name": "stdout",
          "text": [
            "True\n"
          ]
        }
      ]
    }
  ]
}